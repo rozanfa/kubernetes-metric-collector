{
 "cells": [
  {
   "cell_type": "code",
   "execution_count": 5,
   "metadata": {},
   "outputs": [
    {
     "name": "stdout",
     "output_type": "stream",
     "text": [
      "Listing pods with their IPs:\n"
     ]
    }
   ],
   "source": [
    "from kubernetes import client, config\n",
    "\n",
    "# Configs can be set in Configuration class directly or using helper utility\n",
    "config.load_kube_config()\n",
    "\n",
    "v1 = client.CoreV1Api()\n",
    "print(\"Listing pods with their IPs:\")\n",
    "ret = v1.list_namespaced_pod(\"media-microservices\")\n",
    "for i in ret.items:\n",
    "    print(\"%s\\t%s\\t%s\" % (i.status.pod_ip, i.metadata.namespace, i.metadata.name))"
   ]
  },
  {
   "cell_type": "code",
   "execution_count": 7,
   "metadata": {},
   "outputs": [
    {
     "data": {
      "text/plain": [
       "{'kind': 'NodeMetricsList',\n",
       " 'apiVersion': 'metrics.k8s.io/v1beta1',\n",
       " 'metadata': {},\n",
       " 'items': [{'metadata': {'name': 'minikube',\n",
       "    'creationTimestamp': '2024-02-27T09:55:45Z',\n",
       "    'labels': {'beta.kubernetes.io/arch': 'amd64',\n",
       "     'beta.kubernetes.io/os': 'linux',\n",
       "     'kubernetes.io/arch': 'amd64',\n",
       "     'kubernetes.io/hostname': 'minikube',\n",
       "     'kubernetes.io/os': 'linux',\n",
       "     'minikube.k8s.io/commit': '0fb901cff6518c312b23f4ae34a9f955e8ef6ca1-dirty',\n",
       "     'minikube.k8s.io/name': 'minikube',\n",
       "     'minikube.k8s.io/primary': 'true',\n",
       "     'minikube.k8s.io/updated_at': '2024_02_27T16_31_34_0700',\n",
       "     'minikube.k8s.io/version': 'v1.32.0',\n",
       "     'node-role.kubernetes.io/control-plane': '',\n",
       "     'node.kubernetes.io/exclude-from-external-load-balancers': ''}},\n",
       "   'timestamp': '2024-02-27T09:55:36Z',\n",
       "   'window': '10.077s',\n",
       "   'usage': {'cpu': '301060434n', 'memory': '829964Ki'}}]}"
      ]
     },
     "execution_count": 7,
     "metadata": {},
     "output_type": "execute_result"
    }
   ],
   "source": [
    "from kubernetes.client import CustomObjectsApi                                 \n",
    "cust = CustomObjectsApi()\n",
    "cust.list_cluster_custom_object('metrics.k8s.io', 'v1beta1', 'nodes')"
   ]
  },
  {
   "cell_type": "code",
   "execution_count": 13,
   "metadata": {},
   "outputs": [
    {
     "name": "stdout",
     "output_type": "stream",
     "text": [
      "{'kind': 'PodMetricsList', 'apiVersion': 'metrics.k8s.io/v1beta1', 'metadata': {}, 'items': [{'metadata': {'name': 'coredns-5dd5756b68-rhdfm', 'namespace': 'kube-system', 'creationTimestamp': '2024-02-27T09:56:34Z', 'labels': {'k8s-app': 'kube-dns', 'pod-template-hash': '5dd5756b68'}}, 'timestamp': '2024-02-27T09:56:33Z', 'window': '2.995s', 'containers': [{'name': 'coredns', 'usage': {'cpu': '1039398n', 'memory': '18948Ki'}}]}, {'metadata': {'name': 'etcd-minikube', 'namespace': 'kube-system', 'creationTimestamp': '2024-02-27T09:56:34Z', 'labels': {'component': 'etcd', 'tier': 'control-plane'}}, 'timestamp': '2024-02-27T09:56:33Z', 'window': '2.995s', 'containers': [{'name': 'etcd', 'usage': {'cpu': '12775292n', 'memory': '40552Ki'}}]}, {'metadata': {'name': 'kube-apiserver-minikube', 'namespace': 'kube-system', 'creationTimestamp': '2024-02-27T09:56:34Z', 'labels': {'component': 'kube-apiserver', 'tier': 'control-plane'}}, 'timestamp': '2024-02-27T09:56:33Z', 'window': '2.997s', 'containers': [{'name': 'kube-apiserver', 'usage': {'cpu': '27088421n', 'memory': '239476Ki'}}]}, {'metadata': {'name': 'kube-controller-manager-minikube', 'namespace': 'kube-system', 'creationTimestamp': '2024-02-27T09:56:34Z', 'labels': {'component': 'kube-controller-manager', 'tier': 'control-plane'}}, 'timestamp': '2024-02-27T09:56:33Z', 'window': '2.995s', 'containers': [{'name': 'kube-controller-manager', 'usage': {'cpu': '7013021n', 'memory': '48276Ki'}}]}, {'metadata': {'name': 'kube-proxy-vxrh2', 'namespace': 'kube-system', 'creationTimestamp': '2024-02-27T09:56:34Z', 'labels': {'controller-revision-hash': '8486c7d9cd', 'k8s-app': 'kube-proxy', 'pod-template-generation': '1'}}, 'timestamp': '2024-02-27T09:56:33Z', 'window': '2.997s', 'containers': [{'name': 'kube-proxy', 'usage': {'cpu': '278945n', 'memory': '15788Ki'}}]}, {'metadata': {'name': 'kube-scheduler-minikube', 'namespace': 'kube-system', 'creationTimestamp': '2024-02-27T09:56:34Z', 'labels': {'component': 'kube-scheduler', 'tier': 'control-plane'}}, 'timestamp': '2024-02-27T09:56:33Z', 'window': '2.996s', 'containers': [{'name': 'kube-scheduler', 'usage': {'cpu': '1931909n', 'memory': '17040Ki'}}]}, {'metadata': {'name': 'metrics-server-5696bdb95f-m2rhf', 'namespace': 'kube-system', 'creationTimestamp': '2024-02-27T09:56:34Z', 'labels': {'gcp-auth-skip-secret': 'true', 'k8s-app': 'metrics-server', 'pod-template-hash': '5696bdb95f'}}, 'timestamp': '2024-02-27T09:56:33Z', 'window': '2.998s', 'containers': [{'name': 'metrics-server', 'usage': {'cpu': '3710473n', 'memory': '23232Ki'}}]}, {'metadata': {'name': 'storage-provisioner', 'namespace': 'kube-system', 'creationTimestamp': '2024-02-27T09:56:34Z', 'labels': {'addonmanager.kubernetes.io/mode': 'Reconcile', 'integration-test': 'storage-provisioner'}}, 'timestamp': '2024-02-27T09:56:33Z', 'window': '2.995s', 'containers': [{'name': 'storage-provisioner', 'usage': {'cpu': '594657n', 'memory': '11900Ki'}}]}]}\n"
     ]
    }
   ],
   "source": [
    "import pandas as pd\n",
    "res = cust.list_cluster_custom_object('metrics.k8s.io', 'v1beta1', 'pods')\n",
    "pod_metrics = res.get('items')\n",
    "print(res)"
   ]
  },
  {
   "cell_type": "code",
   "execution_count": 14,
   "metadata": {},
   "outputs": [
    {
     "name": "stdout",
     "output_type": "stream",
     "text": [
      "                               name        cpu    memory\n",
      "0          coredns-5dd5756b68-rhdfm    956187n   18964Ki\n",
      "1                     etcd-minikube   8291219n   40552Ki\n",
      "2           kube-apiserver-minikube  20667670n  239476Ki\n",
      "3  kube-controller-manager-minikube   6463903n   48276Ki\n",
      "4                  kube-proxy-vxrh2     43492n   15788Ki\n",
      "5           kube-scheduler-minikube    993981n   17040Ki\n",
      "6   metrics-server-5696bdb95f-m2rhf    927090n   23232Ki\n",
      "7               storage-provisioner    585145n   11936Ki\n"
     ]
    }
   ],
   "source": [
    "import pandas as pd\n",
    "res = cust.list_cluster_custom_object('metrics.k8s.io', 'v1beta1', 'pods')\n",
    "pod_metrics = res.get('items')\n",
    "metrics = []\n",
    "for metric in pod_metrics:\n",
    "    metrics.append([metric.get('metadata').get('name'), metric.get('containers')[0].get('usage').get('cpu'), metric.get('containers')[0].get('usage').get('memory')])\n",
    "    # print(\"%s\\t%s\\t%s\" % (metric.get('metadata').get('name'), metric.get('containers')[0].get('usage').get('cpu'), metric.get('containers')[0].get('usage').get('memory')))\n",
    "\n",
    "df = pd.DataFrame(metrics, columns=[\"name\", \"cpu\", \"memory\"])\n",
    "print(df)"
   ]
  },
  {
   "cell_type": "code",
   "execution_count": 15,
   "metadata": {},
   "outputs": [
    {
     "name": "stdout",
     "output_type": "stream",
     "text": [
      "Empty DataFrame\n",
      "Columns: [name, cpu, memory]\n",
      "Index: []\n"
     ]
    },
    {
     "ename": "KeyboardInterrupt",
     "evalue": "",
     "output_type": "error",
     "traceback": [
      "\u001b[0;31m---------------------------------------------------------------------------\u001b[0m",
      "\u001b[0;31mKeyboardInterrupt\u001b[0m                         Traceback (most recent call last)",
      "Cell \u001b[0;32mIn[15], line 18\u001b[0m\n\u001b[1;32m     15\u001b[0m     s\u001b[38;5;241m.\u001b[39menter(\u001b[38;5;241m1\u001b[39m, \u001b[38;5;241m1\u001b[39m, do_something, (sc,))\n\u001b[1;32m     17\u001b[0m s\u001b[38;5;241m.\u001b[39menter(\u001b[38;5;241m1\u001b[39m, \u001b[38;5;241m1\u001b[39m, do_something, (s,))\n\u001b[0;32m---> 18\u001b[0m \u001b[43ms\u001b[49m\u001b[38;5;241;43m.\u001b[39;49m\u001b[43mrun\u001b[49m\u001b[43m(\u001b[49m\u001b[43m)\u001b[49m\n",
      "File \u001b[0;32m/usr/lib/python3.11/sched.py:149\u001b[0m, in \u001b[0;36mscheduler.run\u001b[0;34m(self, blocking)\u001b[0m\n\u001b[1;32m    147\u001b[0m     \u001b[38;5;28;01mif\u001b[39;00m \u001b[38;5;129;01mnot\u001b[39;00m blocking:\n\u001b[1;32m    148\u001b[0m         \u001b[38;5;28;01mreturn\u001b[39;00m time \u001b[38;5;241m-\u001b[39m now\n\u001b[0;32m--> 149\u001b[0m     delayfunc(time \u001b[38;5;241m-\u001b[39m now)\n\u001b[1;32m    150\u001b[0m \u001b[38;5;28;01melse\u001b[39;00m:\n\u001b[1;32m    151\u001b[0m     action(\u001b[38;5;241m*\u001b[39margument, \u001b[38;5;241m*\u001b[39m\u001b[38;5;241m*\u001b[39mkwargs)\n",
      "\u001b[0;31mKeyboardInterrupt\u001b[0m: "
     ]
    }
   ],
   "source": [
    "import sched, time\n",
    "from IPython.display import clear_output\n",
    "s = sched.scheduler(time.time, time.sleep)\n",
    "def do_something(sc): \n",
    "    clear_output(wait=True)\n",
    "    res = cust.list_cluster_custom_object('metrics.k8s.io', 'v1beta1', 'pods')\n",
    "    pod_metrics = res.get('items')\n",
    "    metrics = []\n",
    "    for metric in pod_metrics:\n",
    "        metrics.append([metric.get('metadata').get('name'), metric.get('containers')[0].get('usage').get('cpu'), metric.get('containers')[0].get('usage').get('memory')])\n",
    "        # print(\"%s\\t%s\\t%s\" % (metric.get('metadata').get('name'), metric.get('containers')[0].get('usage').get('cpu'), metric.get('containers')[0].get('usage').get('memory')))\n",
    "\n",
    "    df = pd.DataFrame(metrics, columns=[\"name\", \"cpu\", \"memory\"])\n",
    "    print(df)\n",
    "    s.enter(1, 1, do_something, (sc,))\n",
    "\n",
    "s.enter(1, 1, do_something, (s,))\n",
    "s.run()"
   ]
  }
 ],
 "metadata": {
  "kernelspec": {
   "display_name": "Python 3",
   "language": "python",
   "name": "python3"
  },
  "language_info": {
   "codemirror_mode": {
    "name": "ipython",
    "version": 3
   },
   "file_extension": ".py",
   "mimetype": "text/x-python",
   "name": "python",
   "nbconvert_exporter": "python",
   "pygments_lexer": "ipython3",
   "version": "3.11.6"
  }
 },
 "nbformat": 4,
 "nbformat_minor": 2
}
