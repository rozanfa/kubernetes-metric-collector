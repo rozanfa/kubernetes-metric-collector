{
 "cells": [
  {
   "cell_type": "code",
   "execution_count": 2,
   "metadata": {},
   "outputs": [
    {
     "name": "stdout",
     "output_type": "stream",
     "text": [
      "Collecting matplotlib\n",
      "  Downloading matplotlib-3.8.3-cp311-cp311-manylinux_2_17_x86_64.manylinux2014_x86_64.whl.metadata (5.8 kB)\n",
      "Collecting contourpy>=1.0.1 (from matplotlib)\n",
      "  Downloading contourpy-1.2.0-cp311-cp311-manylinux_2_17_x86_64.manylinux2014_x86_64.whl.metadata (5.8 kB)\n",
      "Collecting cycler>=0.10 (from matplotlib)\n",
      "  Downloading cycler-0.12.1-py3-none-any.whl.metadata (3.8 kB)\n",
      "Collecting fonttools>=4.22.0 (from matplotlib)\n",
      "  Downloading fonttools-4.49.0-cp311-cp311-manylinux_2_17_x86_64.manylinux2014_x86_64.whl.metadata (159 kB)\n",
      "\u001b[2K     \u001b[90m━━━━━━━━━━━━━━━━━━━━━━━━━━━━━━━━━━━━━\u001b[0m \u001b[32m159.1/159.1 kB\u001b[0m \u001b[31m253.2 kB/s\u001b[0m eta \u001b[36m0:00:00\u001b[0ma \u001b[36m0:00:01\u001b[0m\n",
      "\u001b[?25hCollecting kiwisolver>=1.3.1 (from matplotlib)\n",
      "  Downloading kiwisolver-1.4.5-cp311-cp311-manylinux_2_17_x86_64.manylinux2014_x86_64.whl.metadata (6.4 kB)\n",
      "Requirement already satisfied: numpy<2,>=1.21 in ./.venv/lib/python3.11/site-packages (from matplotlib) (1.26.4)\n",
      "Requirement already satisfied: packaging>=20.0 in ./.venv/lib/python3.11/site-packages (from matplotlib) (23.2)\n",
      "Collecting pillow>=8 (from matplotlib)\n",
      "  Downloading pillow-10.2.0-cp311-cp311-manylinux_2_28_x86_64.whl.metadata (9.7 kB)\n",
      "Collecting pyparsing>=2.3.1 (from matplotlib)\n",
      "  Downloading pyparsing-3.1.1-py3-none-any.whl.metadata (5.1 kB)\n",
      "Requirement already satisfied: python-dateutil>=2.7 in ./.venv/lib/python3.11/site-packages (from matplotlib) (2.8.2)\n",
      "Requirement already satisfied: six>=1.5 in ./.venv/lib/python3.11/site-packages (from python-dateutil>=2.7->matplotlib) (1.16.0)\n",
      "Downloading matplotlib-3.8.3-cp311-cp311-manylinux_2_17_x86_64.manylinux2014_x86_64.whl (11.6 MB)\n",
      "\u001b[2K   \u001b[90m━━━━━━━━━━━━━━━━━━━━━━━━━━━━━━━━━━━━━━━━\u001b[0m \u001b[32m11.6/11.6 MB\u001b[0m \u001b[31m3.5 MB/s\u001b[0m eta \u001b[36m0:00:00\u001b[0m00:01\u001b[0m00:01\u001b[0mm\n",
      "\u001b[?25hDownloading contourpy-1.2.0-cp311-cp311-manylinux_2_17_x86_64.manylinux2014_x86_64.whl (313 kB)\n",
      "\u001b[2K   \u001b[90m━━━━━━━━━━━━━━━━━━━━━━━━━━━━━━━━━━━━━━━━\u001b[0m \u001b[32m313.4/313.4 kB\u001b[0m \u001b[31m8.1 MB/s\u001b[0m eta \u001b[36m0:00:00\u001b[0m:00:01\u001b[0m\n",
      "\u001b[?25hDownloading cycler-0.12.1-py3-none-any.whl (8.3 kB)\n",
      "Downloading fonttools-4.49.0-cp311-cp311-manylinux_2_17_x86_64.manylinux2014_x86_64.whl (4.9 MB)\n",
      "\u001b[2K   \u001b[90m━━━━━━━━━━━━━━━━━━━━━━━━━━━━━━━━━━━━━━━━\u001b[0m \u001b[32m4.9/4.9 MB\u001b[0m \u001b[31m3.6 MB/s\u001b[0m eta \u001b[36m0:00:00\u001b[0ma \u001b[36m0:00:01\u001b[0m\n",
      "\u001b[?25hDownloading kiwisolver-1.4.5-cp311-cp311-manylinux_2_17_x86_64.manylinux2014_x86_64.whl (1.4 MB)\n",
      "\u001b[2K   \u001b[90m━━━━━━━━━━━━━━━━━━━━━━━━━━━━━━━━━━━━━━━━\u001b[0m \u001b[32m1.4/1.4 MB\u001b[0m \u001b[31m4.5 MB/s\u001b[0m eta \u001b[36m0:00:00\u001b[0m00:01\u001b[0m00:01\u001b[0m\n",
      "\u001b[?25hDownloading pillow-10.2.0-cp311-cp311-manylinux_2_28_x86_64.whl (4.5 MB)\n",
      "\u001b[2K   \u001b[90m━━━━━━━━━━━━━━━━━━━━━━━━━━━━━━━━━━━━━━━━\u001b[0m \u001b[32m4.5/4.5 MB\u001b[0m \u001b[31m4.1 MB/s\u001b[0m eta \u001b[36m0:00:00\u001b[0m00:01\u001b[0m00:01\u001b[0m\n",
      "\u001b[?25hDownloading pyparsing-3.1.1-py3-none-any.whl (103 kB)\n",
      "\u001b[2K   \u001b[90m━━━━━━━━━━━━━━━━━━━━━━━━━━━━━━━━━━━━━━━━\u001b[0m \u001b[32m103.1/103.1 kB\u001b[0m \u001b[31m3.4 MB/s\u001b[0m eta \u001b[36m0:00:00\u001b[0m\n",
      "\u001b[?25hInstalling collected packages: pyparsing, pillow, kiwisolver, fonttools, cycler, contourpy, matplotlib\n",
      "Successfully installed contourpy-1.2.0 cycler-0.12.1 fonttools-4.49.0 kiwisolver-1.4.5 matplotlib-3.8.3 pillow-10.2.0 pyparsing-3.1.1\n",
      "Note: you may need to restart the kernel to use updated packages.\n"
     ]
    }
   ],
   "source": [
    "%pip install matplotlib"
   ]
  },
  {
   "cell_type": "code",
   "execution_count": 38,
   "metadata": {},
   "outputs": [],
   "source": [
    "import pandas as pd\n",
    "import matplotlib.pyplot as plt\n",
    "\n",
    "# Read the data from file\n",
    "df = pd.read_csv('pods.csv')\n",
    "df = df.loc[df['namespace'] == 'media-microservices'].reset_index(drop=True)\n",
    "# df['timestamp'] = pd.to_datetime(df['timestamp'], unit='ms') \n",
    "min_time = df['timestamp'].min()\n",
    "df['timestamp'] = df['timestamp'] - min_time"
   ]
  },
  {
   "cell_type": "code",
   "execution_count": 39,
   "metadata": {},
   "outputs": [
    {
     "data": {
      "text/html": [
       "<div>\n",
       "<style scoped>\n",
       "    .dataframe tbody tr th:only-of-type {\n",
       "        vertical-align: middle;\n",
       "    }\n",
       "\n",
       "    .dataframe tbody tr th {\n",
       "        vertical-align: top;\n",
       "    }\n",
       "\n",
       "    .dataframe thead th {\n",
       "        text-align: right;\n",
       "    }\n",
       "</style>\n",
       "<table border=\"1\" class=\"dataframe\">\n",
       "  <thead>\n",
       "    <tr style=\"text-align: right;\">\n",
       "      <th></th>\n",
       "      <th>timestamp</th>\n",
       "      <th>namespace</th>\n",
       "      <th>pod</th>\n",
       "      <th>cpu</th>\n",
       "      <th>memory</th>\n",
       "    </tr>\n",
       "  </thead>\n",
       "  <tbody>\n",
       "    <tr>\n",
       "      <th>0</th>\n",
       "      <td>5559</td>\n",
       "      <td>media-microservices</td>\n",
       "      <td>cast-info-memcached-56b648cb4-274nc</td>\n",
       "      <td>1.549752</td>\n",
       "      <td>1822720.0</td>\n",
       "    </tr>\n",
       "    <tr>\n",
       "      <th>1</th>\n",
       "      <td>13210</td>\n",
       "      <td>media-microservices</td>\n",
       "      <td>cast-info-mongodb-566f5887c-vqzp6</td>\n",
       "      <td>53.432357</td>\n",
       "      <td>20885504.0</td>\n",
       "    </tr>\n",
       "    <tr>\n",
       "      <th>2</th>\n",
       "      <td>6999</td>\n",
       "      <td>media-microservices</td>\n",
       "      <td>cast-info-service-7ccdbff8-zf45m</td>\n",
       "      <td>0.332293</td>\n",
       "      <td>2658304.0</td>\n",
       "    </tr>\n",
       "    <tr>\n",
       "      <th>3</th>\n",
       "      <td>7383</td>\n",
       "      <td>media-microservices</td>\n",
       "      <td>compose-review-memcached-598d9dc6cd-cq2dm</td>\n",
       "      <td>1.508671</td>\n",
       "      <td>2101248.0</td>\n",
       "    </tr>\n",
       "    <tr>\n",
       "      <th>4</th>\n",
       "      <td>7337</td>\n",
       "      <td>media-microservices</td>\n",
       "      <td>compose-review-service-76ccb99f59-dgdcn</td>\n",
       "      <td>0.064992</td>\n",
       "      <td>1560576.0</td>\n",
       "    </tr>\n",
       "    <tr>\n",
       "      <th>...</th>\n",
       "      <td>...</td>\n",
       "      <td>...</td>\n",
       "      <td>...</td>\n",
       "      <td>...</td>\n",
       "      <td>...</td>\n",
       "    </tr>\n",
       "    <tr>\n",
       "      <th>4186</th>\n",
       "      <td>11308</td>\n",
       "      <td>media-microservices</td>\n",
       "      <td>user-mongodb-6964d5bb96-9nrsv</td>\n",
       "      <td>55.639543</td>\n",
       "      <td>26005504.0</td>\n",
       "    </tr>\n",
       "    <tr>\n",
       "      <th>4187</th>\n",
       "      <td>4430</td>\n",
       "      <td>media-microservices</td>\n",
       "      <td>user-review-mongodb-85ccc4bd6f-nx6pm</td>\n",
       "      <td>177.193419</td>\n",
       "      <td>144867328.0</td>\n",
       "    </tr>\n",
       "    <tr>\n",
       "      <th>4188</th>\n",
       "      <td>11062</td>\n",
       "      <td>media-microservices</td>\n",
       "      <td>user-review-redis-558f76b88b-njhbf</td>\n",
       "      <td>29.254814</td>\n",
       "      <td>3842048.0</td>\n",
       "    </tr>\n",
       "    <tr>\n",
       "      <th>4189</th>\n",
       "      <td>7383</td>\n",
       "      <td>media-microservices</td>\n",
       "      <td>user-review-service-66659b79cd-vhxwz</td>\n",
       "      <td>91.373853</td>\n",
       "      <td>13053952.0</td>\n",
       "    </tr>\n",
       "    <tr>\n",
       "      <th>4190</th>\n",
       "      <td>6398</td>\n",
       "      <td>media-microservices</td>\n",
       "      <td>user-service-97d65b7cb-9srq6</td>\n",
       "      <td>49.714953</td>\n",
       "      <td>6823936.0</td>\n",
       "    </tr>\n",
       "  </tbody>\n",
       "</table>\n",
       "<p>4191 rows × 5 columns</p>\n",
       "</div>"
      ],
      "text/plain": [
       "      timestamp            namespace  \\\n",
       "0          5559  media-microservices   \n",
       "1         13210  media-microservices   \n",
       "2          6999  media-microservices   \n",
       "3          7383  media-microservices   \n",
       "4          7337  media-microservices   \n",
       "...         ...                  ...   \n",
       "4186      11308  media-microservices   \n",
       "4187       4430  media-microservices   \n",
       "4188      11062  media-microservices   \n",
       "4189       7383  media-microservices   \n",
       "4190       6398  media-microservices   \n",
       "\n",
       "                                            pod         cpu       memory  \n",
       "0           cast-info-memcached-56b648cb4-274nc    1.549752    1822720.0  \n",
       "1             cast-info-mongodb-566f5887c-vqzp6   53.432357   20885504.0  \n",
       "2              cast-info-service-7ccdbff8-zf45m    0.332293    2658304.0  \n",
       "3     compose-review-memcached-598d9dc6cd-cq2dm    1.508671    2101248.0  \n",
       "4       compose-review-service-76ccb99f59-dgdcn    0.064992    1560576.0  \n",
       "...                                         ...         ...          ...  \n",
       "4186              user-mongodb-6964d5bb96-9nrsv   55.639543   26005504.0  \n",
       "4187       user-review-mongodb-85ccc4bd6f-nx6pm  177.193419  144867328.0  \n",
       "4188         user-review-redis-558f76b88b-njhbf   29.254814    3842048.0  \n",
       "4189       user-review-service-66659b79cd-vhxwz   91.373853   13053952.0  \n",
       "4190               user-service-97d65b7cb-9srq6   49.714953    6823936.0  \n",
       "\n",
       "[4191 rows x 5 columns]"
      ]
     },
     "execution_count": 39,
     "metadata": {},
     "output_type": "execute_result"
    }
   ],
   "source": [
    "df"
   ]
  },
  {
   "cell_type": "code",
   "execution_count": 40,
   "metadata": {},
   "outputs": [
    {
     "data": {
      "text/plain": [
       "0        5559\n",
       "1       13210\n",
       "2        6999\n",
       "3        7383\n",
       "4        7337\n",
       "        ...  \n",
       "4186    11308\n",
       "4187     4430\n",
       "4188    11062\n",
       "4189     7383\n",
       "4190     6398\n",
       "Name: timestamp, Length: 4191, dtype: int64"
      ]
     },
     "execution_count": 40,
     "metadata": {},
     "output_type": "execute_result"
    }
   ],
   "source": [
    "df[\"timestamp\"]"
   ]
  },
  {
   "cell_type": "code",
   "execution_count": 41,
   "metadata": {},
   "outputs": [],
   "source": [
    "pods = df['pod'].unique()"
   ]
  },
  {
   "cell_type": "code",
   "execution_count": 42,
   "metadata": {},
   "outputs": [
    {
     "data": {
      "image/png": "[encoded data removed]",
      "text/plain": [
       "<Figure size 640x480 with 1 Axes>"
      ]
     },
     "metadata": {},
     "output_type": "display_data"
    }
   ],
   "source": [
    "for pod in pods:\n",
    "    df_pod = df.loc[df['pod'] == pod]\n",
    "    plt.plot(df_pod['timestamp'], df_pod['cpu'], label=pod)"
   ]
  }
 ],
 "metadata": {
  "kernelspec": {
   "display_name": ".venv",
   "language": "python",
   "name": "python3"
  },
  "language_info": {
   "codemirror_mode": {
    "name": "ipython",
    "version": 3
   },
   "file_extension": ".py",
   "mimetype": "text/x-python",
   "name": "python",
   "nbconvert_exporter": "python",
   "pygments_lexer": "ipython3",
   "version": "3.11.6"
  }
 },
 "nbformat": 4,
 "nbformat_minor": 2
}
